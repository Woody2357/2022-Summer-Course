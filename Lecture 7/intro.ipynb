{
 "cells": [
  {
   "cell_type": "markdown",
   "metadata": {},
   "source": [
    "# Deep Galerkin Method\n",
    "\n",
    "考虑如下的一个偏微分方程的求解：\n",
    "\n",
    "$$\\left\\{\\begin{array}{l}\\partial_{t} u(t, x)+\\mathcal{L} u(t, x)=0,(t, x) \\in[0, T] \\times \\Omega, \\\\ u(0, x)=u_{0}(x), x \\in \\Omega, \\\\ u(t, x)=g(t, x), x \\in[0, T] \\times \\partial \\Omega\\end{array}\\right.$$\n",
    "\n",
    "我们定义如下的损失函数：\n",
    "\n",
    "$$\\begin{aligned} J\\left(u_{\\theta}\\right)=&\\left\\|\\partial_{t} u_{\\theta}+\\mathcal{L} u_{\\theta}\\right\\|_{[0, T] \\times \\Omega, \\nu_{1}}^{2} +\\left\\|u_{\\theta}(t, x)-g(t, x)\\right\\|_{[0, T] \\times \\partial \\Omega, \\nu_{2}}^{2} +\\left\\|u_{\\theta}(0, x)-u_{0}(x)\\right\\|_{\\Omega, \\nu_{3}}^{2} \\end{aligned}$$\n",
    "\n",
    "在代码演示中，我们会考虑一个具体的热传导问题：\n",
    "\n",
    "$$\n",
    "\\left\\{\\begin{array}{l}\n",
    "u_{t}-u_{x x}-u_{y y}=\\left(\\pi\\cos (\\pi t)+2 \\pi^{2}\\sin (\\pi t)\\right) \\sin (\\pi x) \\sin (\\pi y), \\text { on }[0,4] \\times[0,1] \\times[0,1], \\\\\n",
    "u(0, x, y)=0, \\text { on }[0,1] \\times[0,1] \\\\\n",
    "u(t, 0, y)=u(t, 1, y)=0, \\text { on }[0,4] \\times[0,1], \\\\\n",
    "u(t, x, 0)=u(t, x, 1)=0, \\text { on }[0,4] \\times[0,1].\n",
    "\\end{array}\\right.\n",
    "$$\n",
    "它的解析解为\n",
    "$$\n",
    "u(t, x, y)=\\sin (\\pi t) \\sin (\\pi x) \\sin (\\pi y).\n",
    "$$\n",
    "\n",
    "\n"
   ]
  },
  {
   "cell_type": "markdown",
   "metadata": {},
   "source": []
  }
 ],
 "metadata": {
  "kernelspec": {
   "display_name": "Python 3.9.12 ('base')",
   "language": "python",
   "name": "python3"
  },
  "language_info": {
   "name": "python",
   "version": "3.9.12"
  },
  "orig_nbformat": 4,
  "vscode": {
   "interpreter": {
    "hash": "80ce3dcf17b64634bcc4d988b6a72b43b2d7ca548d51474fce50865d16d0c6ef"
   }
  }
 },
 "nbformat": 4,
 "nbformat_minor": 2
}
