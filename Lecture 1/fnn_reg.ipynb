{
 "cells": [
  {
   "cell_type": "markdown",
   "metadata": {},
   "source": [
    "# Use Pytorch to Construct a Neural Network for Regression"
   ]
  },
  {
   "cell_type": "code",
   "execution_count": null,
   "metadata": {},
   "outputs": [],
   "source": [
    "import torch\n",
    "import torch.nn.functional as F\n",
    "import matplotlib.pyplot as plt"
   ]
  },
  {
   "cell_type": "code",
   "execution_count": null,
   "metadata": {},
   "outputs": [],
   "source": [
    "x = torch.unsqueeze(torch.linspace(-1, 1, 100), dim=1)  # unsqueeze is to transform a 1d data into 2d for the use of torch\n",
    "y = x.pow(2) + 0.2*torch.rand(x.size()) # the lable of y=x^2 but with random noise\n",
    "\n",
    "plt.scatter(x,y)\n",
    "plt.show()  # Let's see the figure"
   ]
  },
  {
   "cell_type": "markdown",
   "metadata": {},
   "source": [
    "![](mlp.jpg)"
   ]
  },
  {
   "cell_type": "code",
   "execution_count": null,
   "metadata": {},
   "outputs": [],
   "source": [
    "class Net(torch.nn.Module):\n",
    "    def __init__(self, n_features, n_hidden, n_output):\n",
    "        super(Net, self).__init__()  # default procedure\n",
    "        self.hidden = torch.nn.Linear(n_features,n_hidden)  # define the hidden layer: input features and output hidden parameters\n",
    "        self.predict = torch.nn.Linear(n_hidden,n_output)  # define the predict layer: input hidden parameters and output results\n",
    "\n",
    "    def forward(self,x):\n",
    "        x = F.relu(self.hidden(x))\n",
    "        x = self.predict(x)\n",
    "        return x\n",
    "\n",
    "net = Net(1, 10, 1)\n",
    "print(net)"
   ]
  },
  {
   "cell_type": "markdown",
   "metadata": {},
   "source": [
    "激活函数介绍\n",
    "1. ReLU函数（Rectified Linear unit）：实现简单，分段线性，具有非常好的求导表现：要么参数消失，要么参数通过，在各种预测任务中表现良好\n",
    "$$ \\text{ReLU}(x)=\\max(x,0) $$\n",
    "2. Sigmoid函数（挤压函数）：将$(-\\infty,\\infty)$的任意值压缩到区间(0,1)，是一个平滑可微的阈值单元（低于某个阈值时取0，超过时取1）近似\n",
    "$$ \\text{sigmoid}(x)=\\frac{1}{1+\\exp(-x)} $$"
   ]
  },
  {
   "cell_type": "code",
   "execution_count": null,
   "metadata": {},
   "outputs": [],
   "source": [
    "plt.ion()  # turn on the interactive mode\n",
    "plt.show()\n",
    "\n",
    "optimizer = torch.optim.SGD(net.parameters(), lr=0.2)\n",
    "loss_func = torch.nn.MSELoss()\n",
    "\n",
    "for t in range(100):\n",
    "    prediction = net(x)\n",
    "\n",
    "    loss = loss_func(prediction,y)  # note that usually the label follows the prediction\n",
    "\n",
    "    optimizer.zero_grad()  # initialize the gradient as zero, otherwise pytorch will do the summation with the last epoch\n",
    "    loss.backward()\n",
    "    optimizer.step()\n",
    "\n",
    "\n",
    "    if t % 5 == 0:\n",
    "        plt.cla()  # clear the current axes\n",
    "        plt.scatter(x,y)\n",
    "        plt.plot(x.data.numpy() ,prediction.data.numpy(), 'r-', lw=5)\n",
    "        plt.text(0.5, 0, 'Loss=%.4f' % loss.data, fontdict={'size':20 , 'color': 'red' })\n",
    "        plt.pause(0.1)\n",
    "\n",
    "plt.ioff()\n",
    "plt.show()"
   ]
  },
  {
   "cell_type": "code",
   "execution_count": null,
   "metadata": {},
   "outputs": [],
   "source": [
    "print(net.state_dict())"
   ]
  }
 ],
 "metadata": {
  "kernelspec": {
   "display_name": "Python 3.9.12 ('base')",
   "language": "python",
   "name": "python3"
  },
  "language_info": {
   "codemirror_mode": {
    "name": "ipython",
    "version": 3
   },
   "file_extension": ".py",
   "mimetype": "text/x-python",
   "name": "python",
   "nbconvert_exporter": "python",
   "pygments_lexer": "ipython3",
   "version": "3.9.12"
  },
  "orig_nbformat": 4,
  "vscode": {
   "interpreter": {
    "hash": "80ce3dcf17b64634bcc4d988b6a72b43b2d7ca548d51474fce50865d16d0c6ef"
   }
  }
 },
 "nbformat": 4,
 "nbformat_minor": 2
}
